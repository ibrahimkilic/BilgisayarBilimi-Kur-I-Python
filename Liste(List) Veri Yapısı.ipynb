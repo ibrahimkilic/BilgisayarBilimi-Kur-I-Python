{
 "cells": [
  {
   "cell_type": "markdown",
   "metadata": {},
   "source": [
    "# Liste Veri Yapısı"
   ]
  },
  {
   "cell_type": "markdown",
   "metadata": {},
   "source": [
    "Bir isim altında farklı türlerde veri saklayabilmemize olanak sağlayan veri yapılarından bir tanesidir. İçerisindeki elemanlar indexlenmiş şekilde tutulur. İndexler ile elemanlara tek tek ya da alt liste şeklinde ulaşılabilir. İmmutable(değiştirilebilir, güncellenebilir) yapısı vardır. Dolayısıyla elemanları değiştirilebilir, güncellenebilir. "
   ]
  },
  {
   "cell_type": "markdown",
   "metadata": {},
   "source": [
    "## Liste tanımlamak"
   ]
  },
  {
   "cell_type": "markdown",
   "metadata": {},
   "source": [
    "### Boş liste tanımlamak"
   ]
  },
  {
   "cell_type": "code",
   "execution_count": 4,
   "metadata": {},
   "outputs": [
    {
     "name": "stdout",
     "output_type": "stream",
     "text": [
      "<class 'list'>\n",
      "[]\n"
     ]
    }
   ],
   "source": [
    "lst = []\n",
    "print(type(lst))\n",
    "print(lst)"
   ]
  },
  {
   "cell_type": "code",
   "execution_count": 5,
   "metadata": {},
   "outputs": [
    {
     "name": "stdout",
     "output_type": "stream",
     "text": [
      "<class 'list'>\n",
      "[]\n"
     ]
    }
   ],
   "source": [
    "lst = list()\n",
    "print(type(lst))\n",
    "print(lst)"
   ]
  },
  {
   "cell_type": "markdown",
   "metadata": {},
   "source": [
    "### Elemanlara sahip liste tanımlamak"
   ]
  },
  {
   "cell_type": "markdown",
   "metadata": {},
   "source": [
    "Bir listeyi elemanlarını belirterekte tanımlayabiliriz."
   ]
  },
  {
   "cell_type": "code",
   "execution_count": 7,
   "metadata": {},
   "outputs": [
    {
     "name": "stdout",
     "output_type": "stream",
     "text": [
      "<class 'list'>\n",
      "[10, 20, 30]\n"
     ]
    }
   ],
   "source": [
    "lst = [10, 20, 30]\n",
    "print(type(lst))\n",
    "print(lst)"
   ]
  },
  {
   "cell_type": "markdown",
   "metadata": {},
   "source": [
    "Listenin elemanları aynı veri türünde olmak zorunda değildir."
   ]
  },
  {
   "cell_type": "code",
   "execution_count": 8,
   "metadata": {},
   "outputs": [
    {
     "name": "stdout",
     "output_type": "stream",
     "text": [
      "<class 'list'>\n",
      "['elma', 10, 25.0, True, (5+2j)]\n"
     ]
    }
   ],
   "source": [
    "lst = [\"elma\", 10, 25.0, True, 5 + 2j ]\n",
    "print(type(lst))\n",
    "print(lst)"
   ]
  },
  {
   "cell_type": "markdown",
   "metadata": {},
   "source": [
    "Listenin elemanları kendisi gibi bir liste yahut farklı bir veri yapısı olabilir."
   ]
  },
  {
   "cell_type": "code",
   "execution_count": 10,
   "metadata": {},
   "outputs": [
    {
     "name": "stdout",
     "output_type": "stream",
     "text": [
      "<class 'list'>\n",
      "[[10, 20, 5], [35, 20, 45], [3, 2, 1]]\n"
     ]
    }
   ],
   "source": [
    "matrix = [[10, 20, 5], [35, 20, 45], [3, 2, 1]]\n",
    "print(type(matrix))\n",
    "print(matrix)"
   ]
  },
  {
   "cell_type": "markdown",
   "metadata": {},
   "source": [
    "### Listenin elemanlarına ulaşmak"
   ]
  },
  {
   "cell_type": "markdown",
   "metadata": {},
   "source": [
    "Liste içerisinde yer alan elemanlara indisleri kullanılarak tek tek ya da bir alt liste şeklinde ulaşılabilir. Bu işlem için \n",
    "\n",
    "[ indis değeri ] \n",
    "\n",
    "yahut \n",
    "\n",
    "[ başlangıç indis : bitiş indis : atlama miktarı ] \n",
    "\n",
    "kullanılır."
   ]
  },
  {
   "cell_type": "code",
   "execution_count": 14,
   "metadata": {},
   "outputs": [
    {
     "name": "stdout",
     "output_type": "stream",
     "text": [
      "['elma', 10, 25.0, True, (5+2j)]\n",
      "25.0\n"
     ]
    }
   ],
   "source": [
    "print(lst)\n",
    "print(lst[2])"
   ]
  },
  {
   "cell_type": "markdown",
   "metadata": {},
   "source": [
    "NOT: Liste içerisindeki elemanların indisleme işleminin sıfırdan başladığı unutulmamalıdır. "
   ]
  },
  {
   "cell_type": "code",
   "execution_count": 15,
   "metadata": {},
   "outputs": [
    {
     "name": "stdout",
     "output_type": "stream",
     "text": [
      "elma\n"
     ]
    }
   ],
   "source": [
    "print(lst[0])"
   ]
  },
  {
   "cell_type": "markdown",
   "metadata": {},
   "source": [
    "Listede kullanılmayan bir indis değeri ile elemana ulaşılmaya çalışıldığında \"index out of range\" hatası ile karşılaşılır."
   ]
  },
  {
   "cell_type": "code",
   "execution_count": 17,
   "metadata": {},
   "outputs": [
    {
     "ename": "IndexError",
     "evalue": "list index out of range",
     "output_type": "error",
     "traceback": [
      "\u001b[1;31m---------------------------------------------------------------------------\u001b[0m",
      "\u001b[1;31mIndexError\u001b[0m                                Traceback (most recent call last)",
      "\u001b[1;32m<ipython-input-17-af5340b9b467>\u001b[0m in \u001b[0;36m<module>\u001b[1;34m\u001b[0m\n\u001b[1;32m----> 1\u001b[1;33m \u001b[0mprint\u001b[0m\u001b[1;33m(\u001b[0m\u001b[0mlst\u001b[0m\u001b[1;33m[\u001b[0m\u001b[1;36m5\u001b[0m\u001b[1;33m]\u001b[0m\u001b[1;33m)\u001b[0m\u001b[1;33m\u001b[0m\u001b[1;33m\u001b[0m\u001b[0m\n\u001b[0m",
      "\u001b[1;31mIndexError\u001b[0m: list index out of range"
     ]
    }
   ],
   "source": [
    "print(lst[5])"
   ]
  },
  {
   "cell_type": "markdown",
   "metadata": {},
   "source": [
    "Listeden bir alt liste elde edilebilir.\n",
    "\n",
    "[ başlangıç indis : bitiş indis : atlama miktarı ]\n",
    "\n",
    "Buradaki atlama miktarı indis değerinin artım miktarıdır."
   ]
  },
  {
   "cell_type": "code",
   "execution_count": 19,
   "metadata": {},
   "outputs": [
    {
     "name": "stdout",
     "output_type": "stream",
     "text": [
      "[10, 25.0]\n"
     ]
    }
   ],
   "source": [
    "print(lst[1:3])"
   ]
  },
  {
   "cell_type": "code",
   "execution_count": 20,
   "metadata": {},
   "outputs": [
    {
     "name": "stdout",
     "output_type": "stream",
     "text": [
      "[10, 25.0]\n"
     ]
    }
   ],
   "source": [
    "print(lst[1:3:1])"
   ]
  },
  {
   "cell_type": "code",
   "execution_count": 21,
   "metadata": {},
   "outputs": [
    {
     "name": "stdout",
     "output_type": "stream",
     "text": [
      "[True, 25.0]\n"
     ]
    }
   ],
   "source": [
    "print(lst[3:1:-1])"
   ]
  },
  {
   "cell_type": "code",
   "execution_count": 22,
   "metadata": {},
   "outputs": [
    {
     "name": "stdout",
     "output_type": "stream",
     "text": [
      "[(5+2j), True, 25.0, 10, 'elma']\n"
     ]
    }
   ],
   "source": [
    "print(lst[::-1])"
   ]
  },
  {
   "cell_type": "code",
   "execution_count": 23,
   "metadata": {},
   "outputs": [
    {
     "name": "stdout",
     "output_type": "stream",
     "text": [
      "['elma', 25.0, (5+2j)]\n"
     ]
    }
   ],
   "source": [
    "print(lst[::2])"
   ]
  },
  {
   "cell_type": "markdown",
   "metadata": {},
   "source": [
    "### Listeye veri(eleman) eklemek"
   ]
  },
  {
   "cell_type": "code",
   "execution_count": 35,
   "metadata": {},
   "outputs": [
    {
     "name": "stdout",
     "output_type": "stream",
     "text": [
      "['elma', 'armut', 'vişne']\n"
     ]
    }
   ],
   "source": [
    "listem = []\n",
    "listem.append(\"elma\")\n",
    "listem.append(\"armut\")\n",
    "listem.append(\"vişne\")\n",
    "print(listem)"
   ]
  },
  {
   "cell_type": "markdown",
   "metadata": {},
   "source": [
    ".append() methodu elemanı listeye her zaman sonundan ekler."
   ]
  },
  {
   "cell_type": "code",
   "execution_count": 36,
   "metadata": {},
   "outputs": [
    {
     "name": "stdout",
     "output_type": "stream",
     "text": [
      "['elma', 'armut', 'kayısı', 'vişne']\n"
     ]
    }
   ],
   "source": [
    "listem.insert(2, \"kayısı\")\n",
    "print(listem)"
   ]
  },
  {
   "cell_type": "markdown",
   "metadata": {},
   "source": [
    ".insert() methodu elemanı belirtilen indis değeri ile ekler. Verilen indis değeri arada bir yerde ise elemanlar sağa doğru kaydırılmak suretiyle ekleme işlemi gerçekleştirilir."
   ]
  },
  {
   "cell_type": "code",
   "execution_count": 37,
   "metadata": {},
   "outputs": [
    {
     "name": "stdout",
     "output_type": "stream",
     "text": [
      "['elma', 'domates', 'armut', 'kayısı', 'vişne']\n"
     ]
    }
   ],
   "source": [
    "listem.insert(1, \"domates\")\n",
    "print(listem)"
   ]
  },
  {
   "cell_type": "markdown",
   "metadata": {},
   "source": [
    "### Listeyi başka bir liste ile genişletmek"
   ]
  },
  {
   "cell_type": "markdown",
   "metadata": {},
   "source": [
    ".extend() metodu kendisine argüman olarak gönderilen liste ile ait olduğu listeyi birleştirmek suretiyle genişletir."
   ]
  },
  {
   "cell_type": "code",
   "execution_count": 39,
   "metadata": {},
   "outputs": [
    {
     "name": "stdout",
     "output_type": "stream",
     "text": [
      "['elma', 'domates', 'armut', 'kayısı', 'vişne', 10, 20, 30, 10, 20, 30]\n"
     ]
    }
   ],
   "source": [
    "listem.extend([10,20,30])\n",
    "print(listem)"
   ]
  },
  {
   "cell_type": "markdown",
   "metadata": {},
   "source": [
    "### Listeden veri(eleman) silmek(çıkarmak)"
   ]
  },
  {
   "cell_type": "markdown",
   "metadata": {},
   "source": [
    "Listeden bir veriyi silmek için .remove() metodu kullanılır."
   ]
  },
  {
   "cell_type": "code",
   "execution_count": 40,
   "metadata": {},
   "outputs": [
    {
     "name": "stdout",
     "output_type": "stream",
     "text": [
      "['elma', 'armut', 'kayısı', 'vişne', 10, 20, 30, 10, 20, 30]\n"
     ]
    }
   ],
   "source": [
    "listem.remove(\"domates\")\n",
    "print(listem)"
   ]
  },
  {
   "cell_type": "markdown",
   "metadata": {},
   "source": [
    "Listenin sonunda bir eleman çıkarıp kullanmak için .pop() metodu kullanılır. Bu metod aynı zamanda listenin bilinen bir yığın olarak kullanılabilmesine olanak tanır. "
   ]
  },
  {
   "cell_type": "code",
   "execution_count": 41,
   "metadata": {},
   "outputs": [
    {
     "name": "stdout",
     "output_type": "stream",
     "text": [
      "['elma', 'armut', 'kayısı', 'vişne', 10, 20, 30, 10, 20, 30]\n",
      "30\n",
      "['elma', 'armut', 'kayısı', 'vişne', 10, 20, 30, 10, 20]\n"
     ]
    }
   ],
   "source": [
    "print(listem)\n",
    "x = listem.pop()\n",
    "print(x)\n",
    "print(listem)"
   ]
  },
  {
   "cell_type": "markdown",
   "metadata": {},
   "source": [
    "### Liste içerisinde arama yapmak"
   ]
  },
  {
   "cell_type": "markdown",
   "metadata": {},
   "source": [
    "Liste içerisinde arama yapmak için .index() metodu kullanılır. Soldan sağa olmak üzere arama yapar ve bulduğu ilk eşleşmenin indis numarasını getirir. Aranan veri bulunamaması durumda istisna (value error) fırlatır. "
   ]
  },
  {
   "cell_type": "code",
   "execution_count": 43,
   "metadata": {},
   "outputs": [
    {
     "name": "stdout",
     "output_type": "stream",
     "text": [
      "2\n"
     ]
    }
   ],
   "source": [
    "print(listem.index(\"kayısı\"))"
   ]
  },
  {
   "cell_type": "code",
   "execution_count": 44,
   "metadata": {},
   "outputs": [
    {
     "ename": "ValueError",
     "evalue": "'çilek' is not in list",
     "output_type": "error",
     "traceback": [
      "\u001b[1;31m---------------------------------------------------------------------------\u001b[0m",
      "\u001b[1;31mValueError\u001b[0m                                Traceback (most recent call last)",
      "\u001b[1;32m<ipython-input-44-80521c7f57e1>\u001b[0m in \u001b[0;36m<module>\u001b[1;34m\u001b[0m\n\u001b[1;32m----> 1\u001b[1;33m \u001b[0mprint\u001b[0m\u001b[1;33m(\u001b[0m\u001b[0mlistem\u001b[0m\u001b[1;33m.\u001b[0m\u001b[0mindex\u001b[0m\u001b[1;33m(\u001b[0m\u001b[1;34m\"çilek\"\u001b[0m\u001b[1;33m)\u001b[0m\u001b[1;33m)\u001b[0m\u001b[1;33m\u001b[0m\u001b[1;33m\u001b[0m\u001b[0m\n\u001b[0m",
      "\u001b[1;31mValueError\u001b[0m: 'çilek' is not in list"
     ]
    }
   ],
   "source": [
    "print(listem.index(\"çilek\"))"
   ]
  },
  {
   "cell_type": "markdown",
   "metadata": {},
   "source": [
    "### Listenin elemanlarını sıralı hale getirmek"
   ]
  },
  {
   "cell_type": "markdown",
   "metadata": {},
   "source": [
    "Sadece sayısal verilere sahip listelerde kusursuz çalışmakla birlikte türkçe karakterlerinde olduğu karakter dizisi şeklinde elemanlardan oluşan listelerde sıkıntı çıkmaktadır. Başka bir deyişle ingilizce alfabe karakterlerindem oluşan karakter dizisi şeklinde elemanlar içeren listelerde de gayet güzel şekilde çalışmaktadır."
   ]
  },
  {
   "cell_type": "code",
   "execution_count": 51,
   "metadata": {},
   "outputs": [
    {
     "name": "stdout",
     "output_type": "stream",
     "text": [
      "[2, 3, 5, 12, 25, 36, 125, 147, 254, 298, 473, 564, 879, 1205, 20244839, 1030520045]\n"
     ]
    }
   ],
   "source": [
    "sayi_listesi = [25, 36, 12, 2, 3, 5, 1205, 125, 564, 879, 147, 254, 473, 298, 1030520045, 20244839] \n",
    "sayi_listesi.sort()\n",
    "print(sayi_listesi)"
   ]
  },
  {
   "cell_type": "code",
   "execution_count": 53,
   "metadata": {},
   "outputs": [
    {
     "name": "stdout",
     "output_type": "stream",
     "text": [
      "['ahmet', 'davut', 'mehmet', 'musa', 'mustafa', 'salih', 'talat', 'ziya']\n"
     ]
    }
   ],
   "source": [
    "isimler = [\"ziya\", \"salih\", \"musa\", \"davut\", \"ahmet\", \"mehmet\", \"mustafa\", \"talat\"]\n",
    "isimler.sort()\n",
    "print(isimler)"
   ]
  },
  {
   "cell_type": "markdown",
   "metadata": {},
   "source": [
    "### Listenin kopyasını oluşturmak"
   ]
  },
  {
   "cell_type": "markdown",
   "metadata": {},
   "source": [
    "İlkel veri tiplerinde olduğu gibi listeler sadece atama operatörü kullanılarak koyalanamazlar. Atama operatörü ile bu işlem gerçekleştirildiğinde sadece aynı hafıza alanına ikinci bir isim verilmiş olur. "
   ]
  },
  {
   "cell_type": "code",
   "execution_count": 55,
   "metadata": {},
   "outputs": [
    {
     "name": "stdout",
     "output_type": "stream",
     "text": [
      "5\n",
      "5\n",
      "10\n",
      "5\n"
     ]
    }
   ],
   "source": [
    "a = 5\n",
    "b = a\n",
    "print(a)\n",
    "print(b)\n",
    "a = 10\n",
    "print(a)\n",
    "print(b)"
   ]
  },
  {
   "cell_type": "code",
   "execution_count": 57,
   "metadata": {},
   "outputs": [
    {
     "name": "stdout",
     "output_type": "stream",
     "text": [
      "[10, 30, 20]\n",
      "[10, 30, 20]\n",
      "[45, 30, 20]\n",
      "[45, 30, 20]\n"
     ]
    }
   ],
   "source": [
    "lst = [10, 30, 20]\n",
    "lst2 = lst\n",
    "print(lst)\n",
    "print(lst2)\n",
    "lst[0]=45\n",
    "print(lst)\n",
    "print(lst2)"
   ]
  },
  {
   "cell_type": "markdown",
   "metadata": {},
   "source": [
    "Liste kopyalama işlemi için .copy() metodu kullanılır."
   ]
  },
  {
   "cell_type": "code",
   "execution_count": 58,
   "metadata": {},
   "outputs": [
    {
     "name": "stdout",
     "output_type": "stream",
     "text": [
      "[45, 30, 20]\n",
      "[45, 30, 20]\n",
      "[45, 30, 360]\n",
      "[45, 30, 20]\n"
     ]
    }
   ],
   "source": [
    "kopya_liste = lst.copy()\n",
    "print(lst)\n",
    "print(kopya_liste)\n",
    "lst[2] = 360\n",
    "print(lst)\n",
    "print(kopya_liste)"
   ]
  },
  {
   "cell_type": "markdown",
   "metadata": {},
   "source": [
    "Listelerin kopyalanması için list sınıfının kurucu fonksiyonu olan list() te kullanılabilir. Asıl olarak argüman olarak gönderilen nesne yahut bir grup eleman ile liste oluşturur. Daha önce argüman göndermeden kullanmış ve boş liste oluşturmuştuk."
   ]
  },
  {
   "cell_type": "code",
   "execution_count": 59,
   "metadata": {},
   "outputs": [
    {
     "name": "stdout",
     "output_type": "stream",
     "text": [
      "[45, 30, 360]\n",
      "[45, 30, 360]\n",
      "[45, 150, 360]\n",
      "[45, 30, 360]\n"
     ]
    }
   ],
   "source": [
    "kopya_liste2 = list(lst)\n",
    "print(lst)\n",
    "print(kopya_liste2)\n",
    "lst[1] = 150\n",
    "print(lst)\n",
    "print(kopya_liste2)"
   ]
  },
  {
   "cell_type": "markdown",
   "metadata": {},
   "source": [
    "### Listeyi temizlemek (Bütün elemanlarını silmek)"
   ]
  },
  {
   "cell_type": "markdown",
   "metadata": {},
   "source": [
    "Listenin içerisindeki bütün elemanları silmek için .clear() metodu kullanılır. "
   ]
  },
  {
   "cell_type": "code",
   "execution_count": 60,
   "metadata": {},
   "outputs": [
    {
     "name": "stdout",
     "output_type": "stream",
     "text": [
      "Temizlenmeden önce: [45, 150, 360]\n",
      "Temizlendikten sonra: []\n"
     ]
    }
   ],
   "source": [
    "print(\"Temizlenmeden önce:\", lst)\n",
    "lst.clear()\n",
    "print(\"Temizlendikten sonra:\", lst)"
   ]
  },
  {
   "cell_type": "markdown",
   "metadata": {},
   "source": [
    "### Listeyi hafızadan silmek"
   ]
  },
  {
   "cell_type": "markdown",
   "metadata": {},
   "source": [
    "Bir nesnenin hafızadan kaldırmak için del anahtar sözcüğü kullanılabilir. Bu anahtar sözcük ile isim bağlantısı kaldırılacaktır. Nesne bir süre kullanılmadığında python yorumlayıcısına ait mekanizma ile hafıza alanıda serbest bırakılacaktır. Kısacası nesneyi hafızadan silmiş gibi olacağız."
   ]
  },
  {
   "cell_type": "code",
   "execution_count": 63,
   "metadata": {},
   "outputs": [
    {
     "ename": "NameError",
     "evalue": "name 'lst' is not defined",
     "output_type": "error",
     "traceback": [
      "\u001b[1;31m---------------------------------------------------------------------------\u001b[0m",
      "\u001b[1;31mNameError\u001b[0m                                 Traceback (most recent call last)",
      "\u001b[1;32m<ipython-input-63-d7cf28fcceaa>\u001b[0m in \u001b[0;36m<module>\u001b[1;34m\u001b[0m\n\u001b[1;32m----> 1\u001b[1;33m \u001b[0mprint\u001b[0m\u001b[1;33m(\u001b[0m\u001b[0mlst\u001b[0m\u001b[1;33m)\u001b[0m\u001b[1;33m\u001b[0m\u001b[1;33m\u001b[0m\u001b[0m\n\u001b[0m\u001b[0;32m      2\u001b[0m \u001b[1;32mdel\u001b[0m \u001b[0mlst\u001b[0m\u001b[1;33m\u001b[0m\u001b[1;33m\u001b[0m\u001b[0m\n\u001b[0;32m      3\u001b[0m \u001b[0mprint\u001b[0m\u001b[1;33m(\u001b[0m\u001b[0mlst\u001b[0m\u001b[1;33m)\u001b[0m\u001b[1;33m\u001b[0m\u001b[1;33m\u001b[0m\u001b[0m\n",
      "\u001b[1;31mNameError\u001b[0m: name 'lst' is not defined"
     ]
    }
   ],
   "source": [
    "print(lst)\n",
    "del lst\n",
    "print(lst)"
   ]
  },
  {
   "cell_type": "markdown",
   "metadata": {},
   "source": [
    "Dikkat edilirse ilk çıktı komutu yorumlandı. del anahtar sözcüğü ile lst ismi hafızadan kaldırıldığı için. İkinci çıktı komutunda böyle bir isim tanımlı değil hatası ile karşılaştık. "
   ]
  },
  {
   "cell_type": "markdown",
   "metadata": {},
   "source": [
    "### Listeyi ters yüz etmek"
   ]
  },
  {
   "cell_type": "code",
   "execution_count": 64,
   "metadata": {},
   "outputs": [
    {
     "name": "stdout",
     "output_type": "stream",
     "text": [
      "['talat', 'mustafa', 'mehmet', 'ahmet', 'davut', 'musa', 'salih', 'ziya']\n"
     ]
    }
   ],
   "source": [
    "isimler = [\"ziya\", \"salih\", \"musa\", \"davut\", \"ahmet\", \"mehmet\", \"mustafa\", \"talat\"]\n",
    "isimler.reverse()\n",
    "print(isimler)"
   ]
  },
  {
   "cell_type": "markdown",
   "metadata": {},
   "source": [
    "### Bir veriden listede kaç tane olduğunu bulmak"
   ]
  },
  {
   "cell_type": "code",
   "execution_count": 65,
   "metadata": {},
   "outputs": [
    {
     "name": "stdout",
     "output_type": "stream",
     "text": [
      "1\n"
     ]
    }
   ],
   "source": [
    "print(isimler.count(\"mehmet\"))"
   ]
  }
 ],
 "metadata": {
  "kernelspec": {
   "display_name": "Python 3",
   "language": "python",
   "name": "python3"
  },
  "language_info": {
   "codemirror_mode": {
    "name": "ipython",
    "version": 3
   },
   "file_extension": ".py",
   "mimetype": "text/x-python",
   "name": "python",
   "nbconvert_exporter": "python",
   "pygments_lexer": "ipython3",
   "version": "3.7.6"
  }
 },
 "nbformat": 4,
 "nbformat_minor": 4
}
