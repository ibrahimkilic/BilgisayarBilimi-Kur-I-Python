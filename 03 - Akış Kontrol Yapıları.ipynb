{
 "cells": [
  {
   "cell_type": "markdown",
   "metadata": {},
   "source": [
    "# Akış Kontrol Yapıları"
   ]
  },
  {
   "cell_type": "markdown",
   "metadata": {},
   "source": [
    "Herhangi bir program yazılmış olan ilk komuttan başlanarak son komuta doğru yorumlanır. Bu akış kontrol yapıları zaman zaman koşula bağlı olarak işletilecek komutlar oluşturarak zaman zaman da yinelenen komutlar oluşturma suretiyle yönetilebilabilir."
   ]
  },
  {
   "cell_type": "markdown",
   "metadata": {},
   "source": [
    "## Karar Yapıları"
   ]
  },
  {
   "cell_type": "markdown",
   "metadata": {},
   "source": [
    "Komutların belirli koşul altında işletilmesi istendiğinde kullanılan yapılardır."
   ]
  },
  {
   "cell_type": "markdown",
   "metadata": {},
   "source": [
    "### if yapısı"
   ]
  },
  {
   "cell_type": "markdown",
   "metadata": {},
   "source": [
    "Bir ifadenin mantıksal 1 sonucunu yani True üretmesi durumunda gerçekleştirilecek iş ve işlemler oluşturmak için kullanılır. \n",
    "\n",
    "if (mantıksal değer üreten ifade):\n",
    "\n",
    "    işletilecek komutlar"
   ]
  },
  {
   "cell_type": "code",
   "execution_count": 5,
   "metadata": {},
   "outputs": [
    {
     "name": "stdout",
     "output_type": "stream",
     "text": [
      "Suyun sıcaklığını giriniz15\n",
      "Sıvı\n"
     ]
    }
   ],
   "source": [
    "x = int(input(\"Suyun sıcaklığını giriniz\"))\n",
    "if x>0:\n",
    "    print(\"Sıvı\")"
   ]
  },
  {
   "cell_type": "code",
   "execution_count": 6,
   "metadata": {},
   "outputs": [
    {
     "name": "stdout",
     "output_type": "stream",
     "text": [
      "Suyun sıcaklığını giriniz-2\n"
     ]
    }
   ],
   "source": [
    "x = int(input(\"Suyun sıcaklığını giriniz\"))\n",
    "if x>0:\n",
    "    print(\"Sıvı\")"
   ]
  },
  {
   "cell_type": "markdown",
   "metadata": {},
   "source": [
    "### if - else yapısı"
   ]
  },
  {
   "cell_type": "markdown",
   "metadata": {},
   "source": [
    "Bir ifadenin mantıksal 1(True) ve mantıksal 0(False) üretmesi durumunda farklı iş ve işlemlerin gerçekleştirilmesi isteniyorsa kullanılan yapıdır. \n",
    "\n",
    "if (mantıksal değer üreten ifade):\n",
    "\n",
    "    işletilecek komutlar\n",
    "    \n",
    "else\n",
    "\n",
    "    işletilecek komutlar"
   ]
  },
  {
   "cell_type": "code",
   "execution_count": 9,
   "metadata": {},
   "outputs": [
    {
     "name": "stdout",
     "output_type": "stream",
     "text": [
      "Suyun sıcaklığını giriniz10\n",
      "Sıvı Halde\n"
     ]
    }
   ],
   "source": [
    "x = int(input(\"Suyun sıcaklığını giriniz\"))\n",
    "if x>0:\n",
    "    print(\"Sıvı Halde\")\n",
    "else:\n",
    "    print(\"Sıvı değil!\")"
   ]
  },
  {
   "cell_type": "code",
   "execution_count": 10,
   "metadata": {},
   "outputs": [
    {
     "name": "stdout",
     "output_type": "stream",
     "text": [
      "Suyun sıcaklığını giriniz0\n",
      "Sıvı değil!\n"
     ]
    }
   ],
   "source": [
    "x = int(input(\"Suyun sıcaklığını giriniz\"))\n",
    "if x>0:\n",
    "    print(\"Sıvı Halde\")\n",
    "else:\n",
    "    print(\"Sıvı değil!\")"
   ]
  },
  {
   "cell_type": "markdown",
   "metadata": {},
   "source": [
    "##### Karar yapılarının iç içe kullanımı mümkündür."
   ]
  },
  {
   "cell_type": "code",
   "execution_count": 11,
   "metadata": {},
   "outputs": [
    {
     "name": "stdout",
     "output_type": "stream",
     "text": [
      "Suyun sıcaklığını giriniz0\n",
      "Erime noktasında\n"
     ]
    }
   ],
   "source": [
    "x = int(input(\"Suyun sıcaklığını giriniz\"))\n",
    "if x>0:\n",
    "    print(\"Sıvı Halde\")\n",
    "else:\n",
    "    if x==0:\n",
    "        print(\"Erime noktasında\")\n",
    "    else:\n",
    "        print(\"Katı Halde\")"
   ]
  },
  {
   "cell_type": "markdown",
   "metadata": {},
   "source": [
    "### if - elif - ... - elif - else yapısı"
   ]
  },
  {
   "cell_type": "markdown",
   "metadata": {},
   "source": [
    "elif deyimini bir önceki sınama sonucu mantıksal 0(False) sonucunu üretiyorsa eğer şeklinde değerlendirebiliriz. Bir ifade değerlendirildiğinde sonuç False ise bir alttaki deyimdeki ifade ile devam edilir. İfade True sonucunu üretirse ifadenin bloğundaki komutlar işletilir ve yapı sona erer."
   ]
  },
  {
   "cell_type": "code",
   "execution_count": 12,
   "metadata": {},
   "outputs": [
    {
     "name": "stdout",
     "output_type": "stream",
     "text": [
      "Suyun sıcaklığını giriniz52\n",
      "Sıvı Halde\n"
     ]
    }
   ],
   "source": [
    "#Suyun 0 derecede donduğu, 100 derecede kaynadığı şartlar için yazılmış, 0-100 aralığında hiç buharlaşmadığı kabul edilmiştir.\n",
    "x = int(input(\"Suyun sıcaklığını giriniz\"))\n",
    "if x<0:\n",
    "    print(\"Katı Halde\")\n",
    "elif x==0:\n",
    "    print(\"Erime Noktasında\")\n",
    "elif x<100:\n",
    "    print(\"Sıvı Halde\")\n",
    "elif x==100:\n",
    "    print(\"Kaynama Noktasında\")\n",
    "elif x>100:\n",
    "    print(\"Gaz Halinde\")\n",
    "else:\n",
    "    pass"
   ]
  },
  {
   "cell_type": "markdown",
   "metadata": {},
   "source": [
    "##### pass deyimi bir kod bloğunun boş bırakılması ihtiyacı doğduğunda program kodunun hata üretmemesi için burayı görmezden gel, geç manasında kullanılır. "
   ]
  },
  {
   "cell_type": "code",
   "execution_count": 1,
   "metadata": {},
   "outputs": [
    {
     "name": "stdout",
     "output_type": "stream",
     "text": [
      "Suyun sıcaklığını giriniz110\n",
      "Gaz Halinde\n"
     ]
    }
   ],
   "source": [
    "#Suyun 0 derecede donduğu, 100 derecede kaynadığı şartlar için yazılmış, 0-100 aralığında hiç buharlaşmadığı kabul edilmiştir.\n",
    "x = int(input(\"Suyun sıcaklığını giriniz\"))\n",
    "if x<0:\n",
    "    print(\"Katı Halde\")\n",
    "elif x==0:\n",
    "    print(\"Erime Noktasında\")\n",
    "elif x<100:\n",
    "    print(\"Sıvı Halde\")\n",
    "elif x==100:\n",
    "    print(\"Kaynama Noktasında\")\n",
    "else:\n",
    "    print(\"Gaz Halinde\")"
   ]
  },
  {
   "cell_type": "markdown",
   "metadata": {},
   "source": [
    "## Döngüler"
   ]
  },
  {
   "cell_type": "markdown",
   "metadata": {},
   "source": [
    "Bilgisayara bir komutu olduğu gibi yahut ufak değişiklikler ile birden fazla kez vermemiz gerekebilir. Bu tarz edilmesi gerekli kod blokları oluşturmak için döngü yapısı kullanılırız. "
   ]
  },
  {
   "cell_type": "markdown",
   "metadata": {},
   "source": [
    "Ekranda 1 ile 15 arasındaki sayıları görüntüleyen programı yazınız."
   ]
  },
  {
   "cell_type": "code",
   "execution_count": 1,
   "metadata": {},
   "outputs": [
    {
     "name": "stdout",
     "output_type": "stream",
     "text": [
      "1\n",
      "2\n",
      "3\n",
      "4\n",
      "5\n",
      "6\n",
      "7\n",
      "8\n",
      "9\n",
      "10\n",
      "11\n",
      "12\n",
      "13\n",
      "14\n",
      "15\n"
     ]
    }
   ],
   "source": [
    "print(1)\n",
    "print(2)\n",
    "print(3)\n",
    "print(4)\n",
    "print(5)\n",
    "print(6)\n",
    "print(7)\n",
    "print(8)\n",
    "print(9)\n",
    "print(10)\n",
    "print(11)\n",
    "print(12)\n",
    "print(13)\n",
    "print(14)\n",
    "print(15)"
   ]
  },
  {
   "cell_type": "markdown",
   "metadata": {},
   "source": [
    "### while Döngüsü"
   ]
  },
  {
   "cell_type": "markdown",
   "metadata": {},
   "source": [
    "İfade True ürettiği sürece while deyimine ait komutlar tekrarlı olarak yürütülür.\n",
    "\n",
    "while (mantıksal değer üreten ifade):\n",
    "    \n",
    "    yürütülecek komutlar"
   ]
  },
  {
   "cell_type": "code",
   "execution_count": 10,
   "metadata": {},
   "outputs": [
    {
     "name": "stdout",
     "output_type": "stream",
     "text": [
      "1\n",
      "2\n",
      "3\n",
      "4\n",
      "5\n",
      "6\n",
      "7\n",
      "8\n",
      "9\n",
      "10\n"
     ]
    }
   ],
   "source": [
    "i=1\n",
    "while i<=10:\n",
    "    print(i)\n",
    "    i=i+1"
   ]
  },
  {
   "cell_type": "code",
   "execution_count": 11,
   "metadata": {},
   "outputs": [
    {
     "name": "stdout",
     "output_type": "stream",
     "text": [
      "1\n",
      "2\n",
      "3\n",
      "4\n",
      "5\n",
      "6\n",
      "7\n",
      "8\n",
      "9\n",
      "10\n"
     ]
    }
   ],
   "source": [
    "i=1\n",
    "while i<=10:\n",
    "    print(i)\n",
    "    i+=1"
   ]
  },
  {
   "cell_type": "code",
   "execution_count": 12,
   "metadata": {},
   "outputs": [
    {
     "name": "stdout",
     "output_type": "stream",
     "text": [
      "1\n",
      "3\n",
      "5\n",
      "7\n",
      "9\n"
     ]
    }
   ],
   "source": [
    "i=1\n",
    "while i<=10:\n",
    "    print(i)\n",
    "    i+=2"
   ]
  },
  {
   "cell_type": "markdown",
   "metadata": {},
   "source": [
    "### for Döngüsü"
   ]
  },
  {
   "cell_type": "markdown",
   "metadata": {},
   "source": [
    "Tanımlanmış döngü değişkeninin in operatörü ile nesnenin elemanlarını tek tek gezerek elde etmesi sonucu oluşan döngü biçimidir. Buradaki nesne birden fazla elemandan oluşan iteratif olarak gezilebilir bir yapıya sahip olmalıdır. Örn; karakter dizisi, liste, tuple, range fonksiyonu ile oluşturulmuş sayı aralığı v.b.\n",
    "\n",
    "for döngü_değişkeni in nesne:\n",
    "\n",
    "    yürütülecek komutlar\n",
    "    "
   ]
  },
  {
   "cell_type": "code",
   "execution_count": 1,
   "metadata": {},
   "outputs": [
    {
     "name": "stdout",
     "output_type": "stream",
     "text": [
      "5\n",
      "2\n",
      "5\n",
      "3\n",
      "6\n",
      "4\n"
     ]
    }
   ],
   "source": [
    "for i in 5,2,5,3,6,4:\n",
    "    print(i)"
   ]
  },
  {
   "cell_type": "code",
   "execution_count": 3,
   "metadata": {},
   "outputs": [
    {
     "name": "stdout",
     "output_type": "stream",
     "text": [
      "m\n",
      "e\n",
      "r\n",
      "h\n",
      "a\n",
      "b\n",
      "a\n"
     ]
    }
   ],
   "source": [
    "for x in \"merhaba\":\n",
    "    print(x)"
   ]
  },
  {
   "cell_type": "markdown",
   "metadata": {},
   "source": [
    "NOT: Sayı aralığı nesnesi oluşturkmak için ***range()*** fonksiyonu kullanılır. \n",
    "\n",
    "***range(başlangıç değeri, bitiş değeri, adım miktarı)***\n",
    "\n",
    "Aralığa başlangıç değeri dahil iken bitiş değeri dahil değildir. Örnekleri inceleyiniz."
   ]
  },
  {
   "cell_type": "code",
   "execution_count": 4,
   "metadata": {},
   "outputs": [
    {
     "name": "stdout",
     "output_type": "stream",
     "text": [
      "0\n",
      "1\n",
      "2\n",
      "3\n",
      "4\n"
     ]
    }
   ],
   "source": [
    "for i in range(5):\n",
    "    print(i)"
   ]
  },
  {
   "cell_type": "code",
   "execution_count": 6,
   "metadata": {},
   "outputs": [
    {
     "name": "stdout",
     "output_type": "stream",
     "text": [
      "0\n",
      "1\n",
      "2\n",
      "3\n",
      "4\n"
     ]
    }
   ],
   "source": [
    "for i in range(0,5):\n",
    "    print(i)"
   ]
  },
  {
   "cell_type": "code",
   "execution_count": 5,
   "metadata": {},
   "outputs": [
    {
     "name": "stdout",
     "output_type": "stream",
     "text": [
      "0\n",
      "2\n",
      "4\n",
      "6\n",
      "8\n"
     ]
    }
   ],
   "source": [
    "for i in range(0,10,2):\n",
    "    print(i)"
   ]
  },
  {
   "cell_type": "code",
   "execution_count": 1,
   "metadata": {},
   "outputs": [
    {
     "name": "stdout",
     "output_type": "stream",
     "text": [
      "5\n",
      "4\n",
      "3\n",
      "2\n",
      "1\n"
     ]
    }
   ],
   "source": [
    "for i in range(5,0,-1):\n",
    "    print(i)"
   ]
  }
 ],
 "metadata": {
  "kernelspec": {
   "display_name": "Python 3",
   "language": "python",
   "name": "python3"
  },
  "language_info": {
   "codemirror_mode": {
    "name": "ipython",
    "version": 3
   },
   "file_extension": ".py",
   "mimetype": "text/x-python",
   "name": "python",
   "nbconvert_exporter": "python",
   "pygments_lexer": "ipython3",
   "version": "3.7.6"
  }
 },
 "nbformat": 4,
 "nbformat_minor": 4
}
